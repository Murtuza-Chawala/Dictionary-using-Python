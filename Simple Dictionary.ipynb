{
 "cells": [
  {
   "cell_type": "code",
   "execution_count": null,
   "metadata": {},
   "outputs": [
    {
     "name": "stdout",
     "output_type": "stream",
     "text": [
      "Did you mean:- swimmer\n"
     ]
    }
   ],
   "source": [
    "from difflib import get_close_matches\n",
    "from IPython.display import clear_output\n",
    "import sys,json\n",
    "\n",
    "#Loading JSON data\n",
    "#def load():\n",
    "data = json.load(open(\"data.json\",\"r\"))\n",
    "\n",
    "#Accepting user input\n",
    "def user_input(): \n",
    "    key = input(\"Please Enter a word whose definition you want to search for: \")\n",
    "    key = key.lower()#Statement used to convert user input to lower case\n",
    "    if(key=='stp'):\n",
    "        return -1\n",
    "    return key\n",
    "\n",
    "#Searching the word in the dictonary\n",
    "def search(key):\n",
    "    try:\n",
    "        print(\"\\n\")\n",
    "        print('Definition:- \\n')\n",
    "        value = data[key]\n",
    "        for val in value:\n",
    "            print('{key} = {value}'.format(key=key,value=val))\n",
    "    except:\n",
    "        flag =  match(key)\n",
    "        if(flag==0):\n",
    "            print('No matching definition for {key}'.format(key=key))  \n",
    "\n",
    "#If no exact match found then searching with matching words in the dictonary\n",
    "def match(key):\n",
    "    matches = get_close_matches(key,data)\n",
    "    if not matches:\n",
    "        return 0\n",
    "    \n",
    "    for value in range(len(matches)):\n",
    "        print('Did you mean:- {val}'.format(val=matches[value]))\n",
    "        opt = (input(\" Please put Y/N in input box:-   \"))\n",
    "        if(opt=='Y' or opt=='y'):\n",
    "            for val in data[matches[value]]:\n",
    "                print('{key} = {value}'.format(key=matches[value],value=val))\n",
    "                flag = 1\n",
    "            return 1;\n",
    "        else:\n",
    "            clear_output()\n",
    "            if value is matches[-1]:\n",
    "                print('No more similar words can be found, please continue with another word')\n",
    "                return\n",
    "            continue\n",
    "        if flag!=1:\n",
    "            return 0;\n",
    "\n",
    "#The main method\n",
    "def main():\n",
    "    print('Welcome to an Interactive and Robust Dictionary')\n",
    "    print(\"\\n\")\n",
    "   # load()\n",
    "    while(1):\n",
    "        key = user_input()\n",
    "        if(key!=\"exitt\"):\n",
    "            value = search(key)\n",
    "        else:\n",
    "             print('\\nThank you for spending time with our application')\n",
    "             return \n",
    "        \n",
    "#Calling the main method   \n",
    "main()"
   ]
  },
  {
   "cell_type": "code",
   "execution_count": null,
   "metadata": {},
   "outputs": [],
   "source": []
  }
 ],
 "metadata": {
  "kernelspec": {
   "display_name": "Python 3",
   "language": "python",
   "name": "python3"
  },
  "language_info": {
   "codemirror_mode": {
    "name": "ipython",
    "version": 3
   },
   "file_extension": ".py",
   "mimetype": "text/x-python",
   "name": "python",
   "nbconvert_exporter": "python",
   "pygments_lexer": "ipython3",
   "version": "3.6.8"
  }
 },
 "nbformat": 4,
 "nbformat_minor": 2
}
